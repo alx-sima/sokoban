{
 "cells": [
  {
   "cell_type": "markdown",
   "id": "32f0c8bb",
   "metadata": {},
   "source": [
    "## Artificial Intelligence: Sokoban solver\n",
    "\n",
    "Author: Alexandru Sima (332CA)\n"
   ]
  },
  {
   "cell_type": "markdown",
   "id": "41282642",
   "metadata": {},
   "source": [
    "## Prerequisites\n"
   ]
  },
  {
   "cell_type": "markdown",
   "id": "5b9fa4d9",
   "metadata": {},
   "source": [
    "### Imports\n"
   ]
  },
  {
   "cell_type": "code",
   "execution_count": null,
   "id": "5e0717ff",
   "metadata": {},
   "outputs": [],
   "source": [
    "from random import seed\n",
    "\n",
    "import matplotlib.pyplot as plt\n",
    "import numpy as np"
   ]
  },
  {
   "cell_type": "code",
   "execution_count": null,
   "id": "27841b84",
   "metadata": {},
   "outputs": [],
   "source": [
    "from search_methods.beam_search import BeamSearch\n",
    "from search_methods.lrtastar import LRTAstar\n",
    "from search_methods.solution import Solution\n",
    "from search_methods.solver import Solver\n",
    "from search_methods.utils import get_neighbours_no_pulls, get_neighbours\n",
    "from sokoban.map import Map\n",
    "\n",
    "import search_methods.heuristics as heuristics"
   ]
  },
  {
   "cell_type": "markdown",
   "id": "cfadde6d",
   "metadata": {},
   "source": [
    "### Seeds\n"
   ]
  },
  {
   "cell_type": "code",
   "execution_count": null,
   "id": "ba53d1fb",
   "metadata": {},
   "outputs": [],
   "source": [
    "random_seed = 42"
   ]
  },
  {
   "cell_type": "code",
   "execution_count": null,
   "id": "80bb9a2f",
   "metadata": {},
   "outputs": [],
   "source": [
    "seed(random_seed)\n",
    "np.random.seed(random_seed)"
   ]
  },
  {
   "cell_type": "markdown",
   "id": "adb9b7da",
   "metadata": {},
   "source": [
    "### Test levels\n"
   ]
  },
  {
   "cell_type": "code",
   "execution_count": null,
   "id": "b2b6eab9",
   "metadata": {},
   "outputs": [],
   "source": [
    "tests = [\n",
    "    \"easy_map1\",\n",
    "    \"easy_map2\",\n",
    "    \"medium_map1\",\n",
    "    \"medium_map2\",\n",
    "    \"large_map1\",\n",
    "    \"large_map2\",\n",
    "    \"hard_map1\",\n",
    "    \"hard_map2\",\n",
    "]\n",
    "\n",
    "test_names = [t.replace(\"_map\", \" \").replace(\"_\", \" \").capitalize() for t in tests]"
   ]
  },
  {
   "cell_type": "markdown",
   "id": "255d6275",
   "metadata": {},
   "source": [
    "### Test runner\n"
   ]
  },
  {
   "cell_type": "code",
   "execution_count": null,
   "id": "1953f75e",
   "metadata": {},
   "outputs": [],
   "source": [
    "def run_tests(\n",
    "    tests: list[str],\n",
    "    beam_search_solver: BeamSearch,\n",
    "    lrtastar_solver: LRTAstar | None,\n",
    "    show_output: bool = True,\n",
    ") -> tuple[list[Solution], list[Solution]]:\n",
    "    \"\"\"Run tests for the given solvers on the specified maps.\"\"\"\n",
    "    beam_search_solutions = []\n",
    "    lrtastar_solutions = []\n",
    "\n",
    "    for test in tests:\n",
    "        playmap = Map.from_yaml(f\"tests/{test}.yaml\")\n",
    "        if show_output:\n",
    "            print(f\"Running test: {test}\")\n",
    "\n",
    "        if beam_search_solver is not None:\n",
    "            stats = beam_search_solver.solve(playmap)\n",
    "            beam_search_solutions.append(stats)\n",
    "            if show_output:\n",
    "                print(\"\\tBeam Search Solution:\")\n",
    "                print(\"\\t\\t\" + str(stats))\n",
    "\n",
    "        if lrtastar_solver is not None:\n",
    "            stats = lrtastar_solver.solve(playmap)\n",
    "            lrtastar_solutions.append(stats)\n",
    "            if show_output:\n",
    "                print(\"\\tLRTA* Solution:\")\n",
    "                print(\"\\t\\t\" + str(stats))\n",
    "\n",
    "        if show_output:\n",
    "            playmap.plot_map()\n",
    "\n",
    "    return beam_search_solutions, lrtastar_solutions"
   ]
  },
  {
   "cell_type": "markdown",
   "id": "698963d0",
   "metadata": {},
   "source": [
    "### Plotting\n"
   ]
  },
  {
   "cell_type": "code",
   "execution_count": null,
   "id": "f751925a",
   "metadata": {},
   "outputs": [],
   "source": [
    "def plot_bars(\n",
    "    title: str,\n",
    "    tests: list[str],\n",
    "    values: list[list[float]],\n",
    "    legend: list[str],\n",
    "    ylabel: str,\n",
    "    fmt=\"%.2f\",\n",
    "    width=0.25,\n",
    "):\n",
    "    \"\"\"\n",
    "    Create a bar plot with two bars (beam search and lrta* results) for each \n",
    "    test.\n",
    "    \"\"\"\n",
    "\n",
    "    def compute_bar_offsets(bar_width: float, bar_count: int) -> np.ndarray:\n",
    "        if bar_count % 2 == 0:\n",
    "            offsets = np.arange(bar_count // 2, dtype=float)\n",
    "            offsets = 1 + 2 * offsets\n",
    "            offsets *= bar_width / 2\n",
    "            return np.concatenate([-offsets, offsets])\n",
    "\n",
    "        offsets = np.arange(bar_count // 2, dtype=float)\n",
    "        offsets = 1 + offsets\n",
    "        offsets *= bar_width\n",
    "        return np.concatenate([-offsets, [0], offsets])\n",
    "\n",
    "    fig, ax = plt.subplots(figsize=(10, 6))\n",
    "\n",
    "    x = np.arange(len(tests))\n",
    "    xoffsets = compute_bar_offsets(width, len(values))\n",
    "\n",
    "    for label, ys, offset in zip(legend, values, xoffsets):\n",
    "        bar = ax.bar(x + offset, ys, width, label=label)\n",
    "        ax.bar_label(bar, fmt=fmt)\n",
    "\n",
    "    ax.set_xticks(x, tests)\n",
    "    ax.set_ylabel(ylabel)\n",
    "\n",
    "    ax.set_title(title)\n",
    "    ax.legend()\n",
    "\n",
    "    fig.autofmt_xdate()\n",
    "    fig.tight_layout()\n",
    "    plt.show()"
   ]
  },
  {
   "cell_type": "markdown",
   "id": "752ca362",
   "metadata": {},
   "source": [
    "### Stats\n"
   ]
  },
  {
   "cell_type": "markdown",
   "id": "42786aa9",
   "metadata": {},
   "source": [
    "##### Maps solved\n"
   ]
  },
  {
   "cell_type": "code",
   "execution_count": null,
   "id": "d31c9b0d",
   "metadata": {},
   "outputs": [],
   "source": [
    "def plot_solved_tests(\n",
    "    solutions: list[list[Solution]],\n",
    "    tests: list[str],\n",
    "    title: str = \"Number of solved tests by algorithm\",\n",
    "    width: float = 0.25,\n",
    "):\n",
    "\n",
    "    solved_tests = [sum([1 if s.is_solved() else 0 for s in ss]) for ss in solutions]\n",
    "\n",
    "    _, ax = plt.subplots()\n",
    "    ax.bar(tests, solved_tests, width=width)\n",
    "\n",
    "    ax.set_title(title)\n",
    "\n",
    "    ax.set_xticks(tests)\n",
    "    ax.set_ylabel(\"number of solved tests\")\n",
    "\n",
    "    plt.tight_layout()\n",
    "    plt.show()"
   ]
  },
  {
   "cell_type": "markdown",
   "id": "731bbfbd",
   "metadata": {},
   "source": [
    "##### Time taken\n"
   ]
  },
  {
   "cell_type": "code",
   "execution_count": null,
   "id": "e8372ff7",
   "metadata": {},
   "outputs": [],
   "source": [
    "def plot_time(\n",
    "    tests: list[str],\n",
    "    solutions: list[list[Solution]],\n",
    "    names: list[str],\n",
    "    title: str = \"Time taken by each algorithm\",\n",
    "):\n",
    "    plot_bars(\n",
    "        title,\n",
    "        tests,\n",
    "        [[s.time for s in ss] for ss in solutions],\n",
    "        names,\n",
    "        \"time (s)\",\n",
    "    )"
   ]
  },
  {
   "cell_type": "markdown",
   "id": "f2f3b3cb",
   "metadata": {},
   "source": [
    "##### Expanded states\n"
   ]
  },
  {
   "cell_type": "code",
   "execution_count": null,
   "id": "2d6d3e64",
   "metadata": {},
   "outputs": [],
   "source": [
    "def plot_expanded_states(\n",
    "    tests: list[str],\n",
    "    solutions: list[list[Solution]],\n",
    "    names: list[str],\n",
    "    title: str = \"Total number of explored states by each algorithm\",\n",
    "):\n",
    "    plot_bars(\n",
    "        title,\n",
    "        tests,\n",
    "        [[s.expanded_states for s in ss] for ss in solutions],\n",
    "        names,\n",
    "        \"explored states\",\n",
    "        fmt=\"%d\",\n",
    "    )"
   ]
  },
  {
   "cell_type": "markdown",
   "id": "7b0a0c16",
   "metadata": {},
   "source": [
    "##### Solution length\n"
   ]
  },
  {
   "cell_type": "code",
   "execution_count": null,
   "id": "d60497ec",
   "metadata": {},
   "outputs": [],
   "source": [
    "def plot_solution_length(\n",
    "    tests: list[str],\n",
    "    solutions: list[list[Solution]],\n",
    "    names: list[str],\n",
    "    title: str = \"Length of the solution given by each algorithm\",\n",
    "):\n",
    "    plot_bars(\n",
    "        title,\n",
    "        tests,\n",
    "        [[s.length for s in ss] for ss in solutions],\n",
    "        names,\n",
    "        \"solution length\",\n",
    "        fmt=\"%d\",\n",
    "    )"
   ]
  },
  {
   "cell_type": "markdown",
   "id": "48665103",
   "metadata": {},
   "source": [
    "##### Number of pulls\n"
   ]
  },
  {
   "cell_type": "code",
   "execution_count": null,
   "id": "4f5d3cd1",
   "metadata": {},
   "outputs": [],
   "source": [
    "def plot_pulls(\n",
    "    tests: list[str],\n",
    "    solutions: list[list[Solution]],\n",
    "    names: list[str],\n",
    "    title: str = \"Number of pulls in the solution given by each algorithm\",\n",
    "):\n",
    "    plot_bars(\n",
    "        title,\n",
    "        tests,\n",
    "        [[s.pull_moves for s in ss] for ss in solutions],\n",
    "        names,\n",
    "        \"number of pulls\",\n",
    "        fmt=\"%d\",\n",
    "    )"
   ]
  },
  {
   "cell_type": "markdown",
   "id": "d8a4e73b",
   "metadata": {},
   "source": [
    "#### Test summary\n"
   ]
  },
  {
   "cell_type": "code",
   "execution_count": null,
   "id": "89bf5e99",
   "metadata": {},
   "outputs": [],
   "source": [
    "def plot_stats(\n",
    "    tests: list[str],\n",
    "    solutions: list[list[Solution]],\n",
    "    names: list[str],\n",
    "):\n",
    "    plot_time(tests, solutions, names)\n",
    "    plot_expanded_states(tests, solutions, names)\n",
    "    plot_solution_length(tests, solutions, names)"
   ]
  },
  {
   "cell_type": "markdown",
   "id": "3b820ddd",
   "metadata": {},
   "source": [
    "## Solution\n"
   ]
  },
  {
   "cell_type": "markdown",
   "id": "c45b31fd",
   "metadata": {},
   "source": [
    "#### Parameters\n"
   ]
  },
  {
   "cell_type": "code",
   "execution_count": null,
   "id": "76f261e5",
   "metadata": {},
   "outputs": [],
   "source": [
    "# common\n",
    "designated_heuristic = heuristics.boxes_minimum_moves_combination\n",
    "state_generator = get_neighbours_no_pulls\n",
    "\n",
    "# Beam Search\n",
    "beam_search_max_iters = 200\n",
    "beam_width = 80\n",
    "\n",
    "# LRTA*\n",
    "astar_max_iters = 20000\n",
    "backoff_probability_factor = 0.98\n",
    "backoff_step_increment = 10\n",
    "cost_plateau_treshold = 20"
   ]
  },
  {
   "cell_type": "markdown",
   "id": "10d61124",
   "metadata": {},
   "source": [
    "#### Statistics\n"
   ]
  },
  {
   "cell_type": "code",
   "execution_count": null,
   "id": "894291c0",
   "metadata": {},
   "outputs": [],
   "source": [
    "base_solver = Solver(\n",
    "    designated_heuristic,\n",
    "    state_generator,\n",
    ")\n",
    "beam_search_solver = BeamSearch(\n",
    "    base_solver, max_iters=beam_search_max_iters, k=beam_width\n",
    ")\n",
    "lrtastar_solver = LRTAstar(\n",
    "    base_solver,\n",
    "    max_iters=astar_max_iters,\n",
    "    backoff_step_increment=backoff_step_increment,\n",
    "    backoff_probability_factor=backoff_probability_factor,\n",
    "    cost_plateau_treshold=cost_plateau_treshold,\n",
    ")\n",
    "\n",
    "beam_search_solutions, lrtastar_solutions = run_tests(\n",
    "    tests,\n",
    "    beam_search_solver,\n",
    "    lrtastar_solver,\n",
    ")"
   ]
  },
  {
   "cell_type": "code",
   "execution_count": null,
   "id": "12fe8290",
   "metadata": {},
   "outputs": [],
   "source": [
    "plot_solved_tests([beam_search_solutions, lrtastar_solutions], [\"Beam Search\", \"LRTA*\"])\n",
    "plot_stats(test_names, [beam_search_solutions, lrtastar_solutions], [\"Beam Search\", \"LRTA*\"])"
   ]
  },
  {
   "cell_type": "markdown",
   "id": "51d03214",
   "metadata": {},
   "source": [
    "#### Vizualising solutions\n"
   ]
  },
  {
   "cell_type": "code",
   "execution_count": null,
   "id": "339bb678",
   "metadata": {},
   "outputs": [],
   "source": [
    "for test, solution in zip(tests, beam_search_solutions):\n",
    "    solution.save(test, \"solutions/beam_search\")\n",
    "\n",
    "for test, solution in zip(tests, lrtastar_solutions):\n",
    "    solution.save(test, \"solutions/lrtastar\")"
   ]
  },
  {
   "cell_type": "markdown",
   "id": "a8d9a651",
   "metadata": {},
   "source": [
    "## Comparison\n"
   ]
  },
  {
   "cell_type": "markdown",
   "id": "4c93ba6e",
   "metadata": {},
   "source": [
    "#### Compared heuristics\n"
   ]
  },
  {
   "cell_type": "code",
   "execution_count": null,
   "id": "db08c155",
   "metadata": {},
   "outputs": [],
   "source": [
    "compared_heuristics = [\n",
    "    heuristics.manhattan_min_distances,\n",
    "    heuristics.boxes_minimum_moves_combination,\n",
    "    heuristics.player_and_boxes_minimum_moves_combination,\n",
    "]\n",
    "\n",
    "heuristic_names = [\n",
    "    \"Manhattan dist.\",\n",
    "    \"Boxes min moves\",\n",
    "    \"Boxes min moves + player dist.\",\n",
    "]"
   ]
  },
  {
   "cell_type": "code",
   "execution_count": null,
   "id": "324ce536",
   "metadata": {},
   "outputs": [],
   "source": [
    "beam_search_sols_by_heuristic = []\n",
    "astar_solutions_by_heuristic = []\n",
    "\n",
    "for heuristic in compared_heuristics:\n",
    "    base_solver = Solver(\n",
    "        heuristic,\n",
    "        state_generator,\n",
    "    )\n",
    "\n",
    "    beam_search_solver = BeamSearch(\n",
    "        base_solver, max_iters=beam_search_max_iters, k=beam_width\n",
    "    )\n",
    "\n",
    "    lrtastar_solver = LRTAstar(\n",
    "        base_solver,\n",
    "        max_iters=astar_max_iters,\n",
    "        backoff_step_increment=backoff_step_increment,\n",
    "        backoff_probability_factor=backoff_probability_factor,\n",
    "        cost_plateau_treshold=cost_plateau_treshold,\n",
    "    )\n",
    "\n",
    "    beam_search_solutions, lrtastar_solutions = run_tests(\n",
    "        tests, beam_search_solver, lrtastar_solver, show_output=False\n",
    "    )\n",
    "\n",
    "    beam_search_sols_by_heuristic.append(beam_search_solutions)\n",
    "    astar_solutions_by_heuristic.append(lrtastar_solutions)"
   ]
  },
  {
   "cell_type": "markdown",
   "id": "eef4b580",
   "metadata": {},
   "source": [
    "#### Beam Search heuristics comparison\n"
   ]
  },
  {
   "cell_type": "code",
   "execution_count": null,
   "id": "edec64b6",
   "metadata": {},
   "outputs": [],
   "source": [
    "plot_solved_tests(\n",
    "    beam_search_sols_by_heuristic,\n",
    "    heuristic_names,\n",
    "    \"Solved tests by heuristic (Beam Search)\",\n",
    ")\n",
    "plot_time(\n",
    "    test_names,\n",
    "    beam_search_sols_by_heuristic,\n",
    "    heuristic_names,\n",
    "    \"Time taken by each heuristic (Beam Search)\",\n",
    ")\n",
    "plot_expanded_states(\n",
    "    test_names,\n",
    "    beam_search_sols_by_heuristic,\n",
    "    heuristic_names,\n",
    "    \"Total number of explored states by each heuristic (Beam Search)\",\n",
    ")\n",
    "plot_solution_length(\n",
    "    test_names,\n",
    "    beam_search_sols_by_heuristic,\n",
    "    heuristic_names,\n",
    "    \"Length of the solution given by each heuristic (Beam Search)\",\n",
    ")"
   ]
  },
  {
   "cell_type": "markdown",
   "id": "11f85d77",
   "metadata": {},
   "source": [
    "#### LRTA\\* heuristics comparison\n"
   ]
  },
  {
   "cell_type": "code",
   "execution_count": null,
   "id": "181e1ddd",
   "metadata": {},
   "outputs": [],
   "source": [
    "plot_solved_tests(\n",
    "    astar_solutions_by_heuristic, heuristic_names, \"Solved tests by heuristic (LRTA*)\"\n",
    ")\n",
    "plot_time(\n",
    "    test_names,\n",
    "    astar_solutions_by_heuristic,\n",
    "    heuristic_names,\n",
    "    \"Time taken by each heuristic (LRTA*)\",\n",
    ")\n",
    "plot_expanded_states(\n",
    "    test_names,\n",
    "    astar_solutions_by_heuristic,\n",
    "    heuristic_names,\n",
    "    \"Total number of explored states by each heuristic (LRTA*)\",\n",
    ")\n",
    "plot_solution_length(\n",
    "    test_names,\n",
    "    astar_solutions_by_heuristic,\n",
    "    heuristic_names,\n",
    "    \"Length of the solution given by each heuristic (LRTA*)\",\n",
    ")"
   ]
  },
  {
   "cell_type": "markdown",
   "id": "cb4d18b7",
   "metadata": {},
   "source": [
    "#### Beam Search vs LRTA\\* average results comparison\n"
   ]
  },
  {
   "cell_type": "code",
   "execution_count": null,
   "id": "4f09f6a0",
   "metadata": {},
   "outputs": [],
   "source": [
    "def transpose(xss: list[list]) -> list[list]:\n",
    "    return [list(xs) for xs in zip(*xss)]\n",
    "\n",
    "\n",
    "beam_search_grouped_solutions = transpose(beam_search_sols_by_heuristic)\n",
    "astar_grouped_solutions = transpose(astar_solutions_by_heuristic)\n",
    "\n",
    "beam_search_average = [\n",
    "    Solution.average([sol for sol in sols if sol.is_solved()])\n",
    "    for sols in beam_search_grouped_solutions\n",
    "]\n",
    "astar_average = [\n",
    "    Solution.average([sol for sol in sols if sol.is_solved()])\n",
    "    for sols in astar_grouped_solutions\n",
    "]\n",
    "\n",
    "plot_stats(\n",
    "    test_names,\n",
    "    [beam_search_average, astar_average],\n",
    "    [\"Beam Search\", \"A*\"],\n",
    ")"
   ]
  },
  {
   "cell_type": "markdown",
   "id": "229a7305",
   "metadata": {},
   "source": [
    "#### LRTA\\* without backoff\n"
   ]
  },
  {
   "cell_type": "code",
   "execution_count": null,
   "id": "b37e880b",
   "metadata": {},
   "outputs": [],
   "source": [
    "base_solver = Solver(\n",
    "    heuristics.manhattan_min_distances,\n",
    "    get_neighbours,\n",
    ")\n",
    "\n",
    "lrtastar_solver = LRTAstar(\n",
    "    base_solver,\n",
    "    max_iters=astar_max_iters,\n",
    "    backoff_probability_factor=1.0,\n",
    ")\n",
    "\n",
    "beam_search_pulls_solutions, astar_pulls_solutions = run_tests(\n",
    "    tests,\n",
    "    None,\n",
    "    lrtastar_solver,\n",
    "    show_output=False,\n",
    ")"
   ]
  },
  {
   "cell_type": "code",
   "execution_count": null,
   "id": "cd351e3d",
   "metadata": {},
   "outputs": [],
   "source": [
    "plot_solved_tests(\n",
    "    [astar_pulls_solutions],\n",
    "    [\"LRTA* (with pulls)\"],\n",
    ")\n",
    "plot_stats(\n",
    "    test_names,\n",
    "    [lrtastar_solutions],\n",
    "    [\"LRTA* (with pulls)\"],\n",
    ")\n",
    "plot_pulls(\n",
    "    test_names,\n",
    "    [astar_pulls_solutions],\n",
    "    [\"LRTA* (with pulls)\"],\n",
    "    \"Number of pulls in the solution\",\n",
    ")"
   ]
  }
 ],
 "metadata": {
  "kernelspec": {
   "display_name": ".venv",
   "language": "python",
   "name": "python3"
  },
  "language_info": {
   "codemirror_mode": {
    "name": "ipython",
    "version": 3
   },
   "file_extension": ".py",
   "mimetype": "text/x-python",
   "name": "python",
   "nbconvert_exporter": "python",
   "pygments_lexer": "ipython3",
   "version": "3.13.3"
  }
 },
 "nbformat": 4,
 "nbformat_minor": 5
}
